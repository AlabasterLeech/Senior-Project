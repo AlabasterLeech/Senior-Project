{
 "cells": [
  {
   "cell_type": "markdown",
   "metadata": {},
   "source": [
    "The Bare Minimum implemented as ElementTree code.\n",
    "No regards to dynamic list sizing or whatever.\n",
    "Solely based on the scotlandWholeCup.xml file."
   ]
  },
  {
   "cell_type": "code",
   "execution_count": 14,
   "metadata": {},
   "outputs": [],
   "source": [
    "import xml.etree.ElementTree as ET\n",
    "\n",
    "# Create the root element\n",
    "root = ET.Element(\"record\", id=\"rule_group\")\n",
    "\n",
    "# Add child elements to the root\n",
    "unsigned_elem = ET.SubElement(root, \"unsigned\", id=\"id\", value=\"1919706994\")\n",
    "integer_elem1 = ET.SubElement(root, \"integer\", id=\"nation\", value=\"793\")\n",
    "integer_elem2 = ET.SubElement(root, \"integer\", id=\"version\", value=\"3506\")\n",
    "\n",
    "# Create and append the 'cup_comps' list\n",
    "cup_comps_list = ET.SubElement(root, \"list\", id=\"cup_comps\")\n",
    "cup_comp_list_record = ET.SubElement(cup_comps_list, \"record\") #new record per comp\n",
    "\n",
    "# Needed at the top of Each Cup Comp\n",
    "use_game_rules = ET.SubElement(cup_comp_list_record, \"string\", id=\"use_game_rules\", value=\"not_in_game\")\n",
    "cup_comp_type = ET.SubElement(cup_comp_list_record, \"string\", id=\"type\", value=\"cup\")\n",
    "qualifying_rounds = ET.SubElement(cup_comp_list_record, \"string\", id=\"qualifying_rounds\", value=\"0\")\n",
    "match_fixture_rules_list = ET.SubElement(cup_comp_list_record, \"list\", id=\"match_fixture_rules\") # what is this filled with??\n",
    "cup_comp_format = ET.SubElement(cup_comp_list_record, \"string\", id=\"format\", value=\"cup\")\n",
    "cup_comp_number_teams = ET.SubElement(cup_comp_list_record, \"integer\", id=\"number_teams\", value=\"13\")\n",
    "\n",
    "# Teams List\n",
    "teams_list = ET.SubElement(cup_comp_list_record, \"list\", id=\"teams\")\n",
    "\n",
    "# Each team is laid out like this\n",
    "teams_list_record_1 = ET.SubElement(teams_list, \"record\")\n",
    "team1_comp_value = ET.SubElement(teams_list_record_1, \"unsigned\", id=\"competition\", value=\"61006755\")\n",
    "team1_team_count = ET.SubElement(teams_list_record_1, \"integer\", id=\"number_teams\", value=\"12\")\n",
    "team1_id = ET.SubElement(teams_list_record_1, \"string\", id=\"id\", value=\"get_best_division_teams\")\n",
    "\n",
    "# Intermission\n",
    "requirements_list = ET.SubElement(cup_comp_list_record, \"list\", id=\"requirements\")\n",
    "seeding_method = ET.SubElement(cup_comp_list_record, \"integer\", id=\"seeding_method\", value=\"0\")\n",
    "\n",
    "# Last Big List - Rounds\n",
    "rounds_list = ET.SubElement(cup_comp_list_record, \"list\", id=\"rounds\")\n",
    "\n",
    "# Each round is laid out like this\n",
    "round_1 = ET.SubElement(rounds_list, \"record\")\n",
    "round_1_num_matches = ET.SubElement(round_1, \"integer\", id=\"number_matches\", value=\"5\")\n",
    "round_1_num_teams = ET.SubElement(round_1, \"integer\", id=\"number_teams\", value=\"10\")\n",
    "round_1_num_extra_teams = ET.SubElement(round_1, \"integer\", id=\"number_extra_teams\", value=\"10\")\n",
    "round_1_num_legs = ET.SubElement(round_1, \"integer\", id=\"number_legs\", value=\"1\")\n",
    "round_1_date = ET.SubElement(round_1, \"date\", id=\"date\", day=\"6\", month=\"8\", year=\"2022\", time=\"0\")\n",
    "round_1_stadium_rules = ET.SubElement(round_1, \"string\", id=\"stadium_rules\", value=\"home\")\n",
    "round_1_time = ET.SubElement(round_1, \"integer\", id=\"time\", value=\"1500\")\n",
    "\n",
    "# End misc stuff\n",
    "cup_comp_competition_val = ET.SubElement(cup_comp_list_record, \"large\", id=\"competition\", value=\"716930567412202264\")\n",
    "cup_comp_subs_rules = ET.SubElement(cup_comp_list_record, \"string\", id=\"subs_rules\", value=\"five_from_seven_max_three_stoppages\")\n",
    "cup_comp_match_rules = ET.SubElement(cup_comp_list_record, \"string\", id=\"match_rules\", value=\"pen\")\n",
    "\n",
    "\n",
    "# Create an ElementTree object and write to a file with indentation\n",
    "tree = ET.ElementTree(root)\n",
    "with open(\"output.xml\", \"wb\") as file:\n",
    "    tree.write(file, encoding=\"utf-8\", xml_declaration=True, default_namespace='', method=\"xml\")\n"
   ]
  },
  {
   "cell_type": "markdown",
   "metadata": {},
   "source": [
    "Below is basic implementation of a csv -> xml reader.\n",
    "Csv file is not 1:1 the format that will be scraped. This is just a proof of concept."
   ]
  },
  {
   "cell_type": "code",
   "execution_count": 49,
   "metadata": {},
   "outputs": [],
   "source": [
    "import xml.etree.ElementTree as ET\n",
    "import csv\n",
    "\n",
    "root_element = \"record\"\n",
    "row_element_name = 'row'\n",
    "\n",
    "csv_file_path = \"grocery.csv\"\n",
    "with open(csv_file_path, 'r') as csv_file:\n",
    "    csv_reader = csv.DictReader(csv_file)\n",
    "    \n",
    "    root = ET.Element(root_element)\n",
    "    row_element = ET.SubElement(root, root_element, id=\"food\")\n",
    "\n",
    "    for row_data in csv_reader:\n",
    "        item_array = []\n",
    "\n",
    "        for key, valuee in row_data.items():\n",
    "            item_array.append(valuee)\n",
    "        sub_element = ET.SubElement(row_element, item_array[0], id=item_array[1], value=item_array[2])\n",
    "                \n",
    "# Create and write the XML file\n",
    "tree = ET.ElementTree(root)\n",
    "with open(\"output.xml\", \"wb\") as file:\n",
    "    tree.write(file, encoding=\"utf-8\", xml_declaration=True, default_namespace='', method=\"xml\")\n"
   ]
  }
 ],
 "metadata": {
  "kernelspec": {
   "display_name": "base",
   "language": "python",
   "name": "python3"
  },
  "language_info": {
   "codemirror_mode": {
    "name": "ipython",
    "version": 3
   },
   "file_extension": ".py",
   "mimetype": "text/x-python",
   "name": "python",
   "nbconvert_exporter": "python",
   "pygments_lexer": "ipython3",
   "version": "3.11.5"
  }
 },
 "nbformat": 4,
 "nbformat_minor": 2
}
